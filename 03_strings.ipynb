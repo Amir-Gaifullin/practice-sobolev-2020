{
 "cells": [
  {
   "cell_type": "markdown",
   "metadata": {},
   "source": [
    "# Строки\n",
    "\n",
    "Строки - упорядоченные последовательности символов, используемые для хранения и представления текстовой информации, поэтому с помощью строк можно работать со всем, что может быть представлено в текстовой форме."
   ]
  },
  {
   "cell_type": "code",
   "execution_count": 1,
   "metadata": {},
   "outputs": [],
   "source": [
    "s0 = 'test0'\n",
    "s1 = \"test1\"\n",
    "s2 = '''test2'''\n",
    "s3 = \"\"\"test3\"\"\""
   ]
  },
  {
   "cell_type": "markdown",
   "metadata": {},
   "source": [
    "# Операции со строками"
   ]
  },
  {
   "cell_type": "code",
   "execution_count": 2,
   "metadata": {},
   "outputs": [
    {
     "data": {
      "text/plain": [
       "'test0test1'"
      ]
     },
     "execution_count": 2,
     "metadata": {},
     "output_type": "execute_result"
    }
   ],
   "source": [
    "# Конкатенация (сложение)\n",
    "s0 + s1"
   ]
  },
  {
   "cell_type": "code",
   "execution_count": 3,
   "metadata": {},
   "outputs": [
    {
     "data": {
      "text/plain": [
       "'test0test0test0'"
      ]
     },
     "execution_count": 3,
     "metadata": {},
     "output_type": "execute_result"
    }
   ],
   "source": [
    "# Дублирование строки\n",
    "\n",
    "s0 * 3"
   ]
  },
  {
   "cell_type": "code",
   "execution_count": 4,
   "metadata": {},
   "outputs": [
    {
     "data": {
      "text/plain": [
       "'inevitable!'"
      ]
     },
     "execution_count": 4,
     "metadata": {},
     "output_type": "execute_result"
    }
   ],
   "source": [
    "# Доступ по индексу\n",
    "\n",
    "# Кто автор фразы?\n",
    "phrase = \"I'm inevitable!\" \n",
    "\n",
    "phrase[4:]"
   ]
  },
  {
   "cell_type": "code",
   "execution_count": 5,
   "metadata": {},
   "outputs": [
    {
     "data": {
      "text/plain": [
       "'inevitable'"
      ]
     },
     "execution_count": 5,
     "metadata": {},
     "output_type": "execute_result"
    }
   ],
   "source": [
    "phrase[4:-1]"
   ]
  },
  {
   "cell_type": "code",
   "execution_count": 6,
   "metadata": {},
   "outputs": [
    {
     "data": {
      "text/plain": [
       "\"!elbativeni m'I\""
      ]
     },
     "execution_count": 6,
     "metadata": {},
     "output_type": "execute_result"
    }
   ],
   "source": [
    "phrase[::-1]"
   ]
  },
  {
   "cell_type": "markdown",
   "metadata": {},
   "source": [
    "# Особые символы\n",
    "\n",
    "- \\n - Перевод строки\n",
    "- \\t - Горизонтальная табуляция\n",
    "- \\v - Вертикальная табуляция\n",
    "- \\\\\\ - backslash (\\\\)"
   ]
  },
  {
   "cell_type": "code",
   "execution_count": 7,
   "metadata": {
    "tags": []
   },
   "outputs": [
    {
     "name": "stdout",
     "output_type": "stream",
     "text": [
      "Hello\n",
      "World!\n"
     ]
    }
   ],
   "source": [
    "print(\"Hello\\nWorld!\")"
   ]
  },
  {
   "cell_type": "code",
   "execution_count": 8,
   "metadata": {
    "tags": []
   },
   "outputs": [
    {
     "name": "stdout",
     "output_type": "stream",
     "text": [
      "Hello\tWorld!\n"
     ]
    }
   ],
   "source": [
    "print(\"Hello\\tWorld!\")"
   ]
  },
  {
   "cell_type": "code",
   "execution_count": 9,
   "metadata": {
    "tags": []
   },
   "outputs": [
    {
     "name": "stdout",
     "output_type": "stream",
     "text": [
      "Hello\\nWorld!\n"
     ]
    }
   ],
   "source": [
    "# Сырые (raw) строки\n",
    "print(r\"Hello\\nWorld!\")"
   ]
  },
  {
   "cell_type": "markdown",
   "metadata": {},
   "source": [
    "# Длинные строки"
   ]
  },
  {
   "cell_type": "code",
   "execution_count": 10,
   "metadata": {
    "tags": []
   },
   "outputs": [
    {
     "name": "stdout",
     "output_type": "stream",
     "text": [
      "This line is so long! Actually, no. But it's ok\n"
     ]
    }
   ],
   "source": [
    "very_long_string = (\n",
    "    \"This line is so long! \"\n",
    "    \"Actually, no. \"\n",
    "    \"But it's ok\"\n",
    ")\n",
    "\n",
    "print(very_long_string)"
   ]
  },
  {
   "cell_type": "code",
   "execution_count": 11,
   "metadata": {
    "tags": []
   },
   "outputs": [
    {
     "name": "stdout",
     "output_type": "stream",
     "text": [
      "В мероприятии примут участие не только российские учёные, но и \n",
      "зарубежные исследователи, в том числе, Крис Хелмбрехт - управляющий \n",
      "                                       PER───────────               \n",
      "директор и совладелец креативного агентства Kollektiv (Германия, США),\n",
      "                                                       LOC─────  LOC  \n",
      " Ннека Угбома - руководитель проекта Mushroom works (Великобритания), \n",
      " PER─────────                                        LOC───────────   \n",
      "Гергей Ковач - политик и лидер субкультурной партии «Dog with two \n",
      "PER─────────                                         ORG──────────\n",
      "tails» (Венгрия), Георг Жено - немецкий режиссёр, один из создателей \n",
      "─────   LOC────   PER───────                                         \n",
      "экспериментального театра «Театр.doc», Театра им. Йозефа Бойса \n",
      "                                       ORG─────── PER───────── \n",
      "(Германия).\n",
      " LOC─────\n"
     ]
    }
   ],
   "source": [
    "really_long_string = \"\"\"В мероприятии примут участие не только российские учёные, но и \n",
    "зарубежные исследователи, в том числе, Крис Хелмбрехт - управляющий \n",
    "                                       PER───────────               \n",
    "директор и совладелец креативного агентства Kollektiv (Германия, США),\n",
    "                                                       LOC─────  LOC  \n",
    " Ннека Угбома - руководитель проекта Mushroom works (Великобритания), \n",
    " PER─────────                                        LOC───────────   \n",
    "Гергей Ковач - политик и лидер субкультурной партии «Dog with two \n",
    "PER─────────                                         ORG──────────\n",
    "tails» (Венгрия), Георг Жено - немецкий режиссёр, один из создателей \n",
    "─────   LOC────   PER───────                                         \n",
    "экспериментального театра «Театр.doc», Театра им. Йозефа Бойса \n",
    "                                       ORG─────── PER───────── \n",
    "(Германия).\n",
    " LOC─────\"\"\"\n",
    "\n",
    "print(really_long_string)"
   ]
  },
  {
   "cell_type": "markdown",
   "metadata": {},
   "source": [
    "# Основные методы\n",
    "\n",
    "- len(S) - Длина строки\n",
    "- S.find(str, \\[start],\\[end]) - Поиск подстроки в строке. Возвращает номер первого вхождения или -1\n",
    "- S.index(str, \\[start],\\[end]) - Поиск подстроки в строке. Возвращает номер первого вхождения или вызывает ValueError\n",
    "- S.replace(шаблон, замена) - Замена шаблона\n",
    "- S.split(символ) - Разбиение строки по разделителю\n",
    "- S.upper() - Преобразование строки к верхнему регистру\n",
    "- S.lower() - Преобразование строки к нижнему регистру\n",
    "- S.capitalize() - Переводит первый символ строки в верхний регистр, а все остальные в нижний\n",
    "- S.startswith(str) - Начинается ли строка S с шаблона str\n",
    "- S.endswith(str) - Заканчивается ли строка S шаблоном str\n",
    "- S.join(список) - Сборка строки из списка с разделителем S\n",
    "- S.count(str, \\[start],\\[end]) - Возвращает количество непересекающихся вхождений подстроки в диапазоне \\[начало, конец] (0 и длина строки по умолчанию)\n",
    "- S.strip(\\[chars]) - Удаление пробельных символов в начале и в конце строки\n",
    "- S.format(*args, **kwargs) - Форматирование строки\n",
    "- ord(символ) - Символ в его код ASCII\n",
    "- chr(число) - Код ASCII в символ"
   ]
  },
  {
   "cell_type": "code",
   "execution_count": 12,
   "metadata": {},
   "outputs": [
    {
     "data": {
      "text/plain": [
       "5"
      ]
     },
     "execution_count": 12,
     "metadata": {},
     "output_type": "execute_result"
    }
   ],
   "source": [
    "len(s1)"
   ]
  },
  {
   "cell_type": "code",
   "execution_count": 13,
   "metadata": {},
   "outputs": [
    {
     "data": {
      "text/plain": [
       "3"
      ]
     },
     "execution_count": 13,
     "metadata": {},
     "output_type": "execute_result"
    }
   ],
   "source": [
    "'string'.find('ing')"
   ]
  },
  {
   "cell_type": "code",
   "execution_count": 14,
   "metadata": {},
   "outputs": [
    {
     "data": {
      "text/plain": [
       "'txt messaging, or txting, is the act of composing and sending electronic messages, typically consisting of alphabetic and numeric characters, between'"
      ]
     },
     "execution_count": 14,
     "metadata": {},
     "output_type": "execute_result"
    }
   ],
   "source": [
    "string = \"text messaging, or texting, is the act of composing and sending electronic messages, typically consisting of alphabetic and numeric characters, between\"\n",
    "string.replace('text', 'txt')"
   ]
  },
  {
   "cell_type": "code",
   "execution_count": 15,
   "metadata": {},
   "outputs": [
    {
     "data": {
      "text/plain": [
       "'text'"
      ]
     },
     "execution_count": 15,
     "metadata": {},
     "output_type": "execute_result"
    }
   ],
   "source": [
    "\"Text\".lower()"
   ]
  },
  {
   "cell_type": "code",
   "execution_count": 16,
   "metadata": {},
   "outputs": [
    {
     "data": {
      "text/plain": [
       "'TEXT'"
      ]
     },
     "execution_count": 16,
     "metadata": {},
     "output_type": "execute_result"
    }
   ],
   "source": [
    "\"Text\".upper()"
   ]
  },
  {
   "cell_type": "code",
   "execution_count": 17,
   "metadata": {},
   "outputs": [
    {
     "data": {
      "text/plain": [
       "'Text'"
      ]
     },
     "execution_count": 17,
     "metadata": {},
     "output_type": "execute_result"
    }
   ],
   "source": [
    "\"text\".capitalize()"
   ]
  },
  {
   "cell_type": "code",
   "execution_count": 18,
   "metadata": {},
   "outputs": [
    {
     "data": {
      "text/plain": [
       "'Some random list'"
      ]
     },
     "execution_count": 18,
     "metadata": {},
     "output_type": "execute_result"
    }
   ],
   "source": [
    "' '.join(['Some', 'random', 'list'])"
   ]
  },
  {
   "cell_type": "code",
   "execution_count": 19,
   "metadata": {},
   "outputs": [
    {
     "data": {
      "text/plain": [
       "['Some', 'random', 'list']"
      ]
     },
     "execution_count": 19,
     "metadata": {},
     "output_type": "execute_result"
    }
   ],
   "source": [
    "'Some random list'.split(' ')"
   ]
  },
  {
   "cell_type": "code",
   "execution_count": 20,
   "metadata": {},
   "outputs": [
    {
     "data": {
      "text/plain": [
       "'text'"
      ]
     },
     "execution_count": 20,
     "metadata": {},
     "output_type": "execute_result"
    }
   ],
   "source": [
    "'    text\\n   '.strip()"
   ]
  },
  {
   "cell_type": "code",
   "execution_count": 21,
   "metadata": {},
   "outputs": [
    {
     "data": {
      "text/plain": [
       "'11 - 008'"
      ]
     },
     "execution_count": 21,
     "metadata": {},
     "output_type": "execute_result"
    }
   ],
   "source": [
    "\"{} - {}\".format('11', '008')"
   ]
  },
  {
   "cell_type": "code",
   "execution_count": 22,
   "metadata": {},
   "outputs": [
    {
     "data": {
      "text/plain": [
       "'11 - 008'"
      ]
     },
     "execution_count": 22,
     "metadata": {},
     "output_type": "execute_result"
    }
   ],
   "source": [
    "f\"{'11'} - {'008'}\""
   ]
  },
  {
   "cell_type": "markdown",
   "metadata": {},
   "source": [
    "# Задания\n",
    "\n",
    "1. (`switch_jk.py`) Вводится текстовая строка. Напечатать строку, где все буквы j будут заменены на букву k.\n",
    "- ВВОД: jfdsafj erwo vmadk fjerw\n",
    "- ВЫВОД: kfdsafk erwo vmadk fkerw\n",
    "\n",
    "2. (`palindrom.py`) Вводится текстовая строка. Проверить, является ли она палиндромом (вывести yes или no)\n",
    "- ВВОД: fghgf\n",
    "- ВЫВОД: yes\n",
    "\n",
    "3. (`print_capitalized.py`) Вводится строка, состоящая из слов, разделенных пробелами. Найти в ней слова, которые начинаются с заглавной буквы, а все остальные символы в таких словах — строчные буквы. Вывести эти слова аналогично через пробел.\n",
    "- ВВОД: Hello there pEOPLE HOW Are yOu eEeEeE EeEeEe\n",
    "- ВЫВОД: Hello Are\n",
    "\n",
    "4. (`capitalize_letter.py`) Вводится  символ  c1,  содержащий  строчную  букву  английского  алфавита.  Получить и вывести символ c2, содержащий соответствующую ей заглавную букву, не зная кодов таблицы ASCII, не используя никаких специальных функций, кроме арифметических операций и конвертации символа в свой номер и обратно. Известно, что в ASCII символы алфавита идут по порядку от a до z, также известно, что строчные буквы находятся в ASCII позже, чем заглавные.\n",
    "ИСПОЛЬЗОВАТЬ ФУНКЦИЮ upper() ЗАПРЕЩЕНО!\n",
    "- ВВОД: b\n",
    "- ВЫВОД: B\n",
    "\n",
    "5. (`sum.py`) Вводится 2 однозначных числа через пробел. Найти и вывести их сумму, не используя функцию int(), не зная кодов таблицы ASCII.\n",
    "- ВВОД: 3 4\n",
    "- ВЫВОД: 7\n",
    "\n",
    "6. (`romb.py`) Вводится целое число n. Вывести ромб с горизонтальной диагональю равной 2n + 1\n",
    "- ВВОД: 5\n",
    "- ВЫВОД:\n",
    "    ```\n",
    "    *****0*****\n",
    "    ****000****\n",
    "    ***00000***\n",
    "    **0000000**\n",
    "    *000000000*\n",
    "    00000000000\n",
    "    *000000000*\n",
    "    **0000000**\n",
    "    ***00000***\n",
    "    ****000****\n",
    "    *****0*****\n",
    "    ```\n",
    "\n"
   ]
  },
  {
   "cell_type": "markdown",
   "metadata": {},
   "source": [
    "# ДЗ\n",
    "\n",
    "## Задание 1\n",
    "\n",
    "`plus_ten.py`\n",
    "\n",
    "Вводится  символ  c1,  содержащий  цифру.  Найти и получить целочисленную  переменную  i, содержащую  цифру  из  c1  как  целое  число,  не  зная  кодов  таблицы  ASCII,  не  используя никаких  специальных  функций,  кроме  арифметических  операций  и  конвертации  символа  в свой номер и обратно. Известно, что в ASCII цифры идут друг за другом от 0 до 9.\n",
    "К данной целочисленной переменной прибавить 10, вывести результат.\n",
    "ПЕРЕВОДИТЬ СИМВОЛ В ЧИСЛО С ПОМОЩЬЮ ФУНКЦИИ int() ЗАПРЕЩЕНО!\n",
    "  \n",
    "ВВОД: `2`\n",
    "\n",
    "ВЫВОД: `12`\n",
    "\n",
    "---\n",
    "\n",
    "## Задание 2\n",
    "\n",
    "`multiply.py`\n",
    "\n",
    "Вводится 2 однозначных числа через пробел. Найти и вывести их произведение, не используя функцию int(), не зная кодов таблицы ASCII.\n",
    "  \n",
    "ВВОД: `2 6`\n",
    "\n",
    "ВЫВОД: `12`\n",
    "\n",
    "---\n",
    "\n",
    "## Задание 3\n",
    "\n",
    "`compare.py`\n",
    "\n",
    "Вводится два слова через пробел. Вывести 0, если первая строка больше второй лексикографически, иначе вывести 1. Использовать встроенные функции сравнения строк запрещено!\n",
    "Примеры лексикографического сравнения строк:\n",
    "a < b\n",
    "ae > ab\n",
    "ae < ba\n",
    "\n",
    "ВВОД: `abc aby`\n",
    "\n",
    "ВЫВОД: `1`\n",
    "\n",
    "---\n",
    "\n",
    "## Задание 4\n",
    "\n",
    "`trianlge.py`\n",
    "\n",
    "Для введенного n вывести равнобедренный треугольник из звёздочек, где n - высота треугольника.\n",
    "\n",
    "ВВОД: `3`\n",
    "\n",
    "ВЫВОД:\n",
    "```\n",
    "  *\n",
    "\n",
    " ***\n",
    "\n",
    "*****\n",
    "```\n",
    "\n",
    "---\n",
    "\n",
    " raw string - `r'  *\\n\\n ***\\n\\n*****'`\n",
    " \n",
    "---\n",
    " \n",
    "## Задание 5\n",
    "\n",
    "`triforce.py`\n",
    "\n",
    "Для введенного n вывести «трифорс» (пример ниже), n - высота каждого треугольника.\n",
    "\n",
    "ВВОД: `3`\n",
    "\n",
    "ВЫВОД:\n",
    "\n",
    "```\n",
    "     *\n",
    "    ***\n",
    "   *****\n",
    "\n",
    "  *     *\n",
    " ***   ***\n",
    "***** *****\n",
    "```\n",
    "\n",
    "---\n",
    "\n",
    "  raw string - `r'     *\\n    ***\\n   *****\\n\\n  *     *\\n ***   ***\\n***** *****\\n'`\n",
    "\n",
    "---\n",
    "\n",
    "## Задание 6\n",
    "\n",
    "`simple_number.py`\n",
    "\n",
    "Вводится число n, вывести yes, если оно простое, иначе вывести no.\n",
    "\n",
    "ВВОД: `53`\n",
    "\n",
    "ВЫВОД: `yes`\n",
    "\n",
    "---\n",
    "\n",
    "ВВОД: `22`\n",
    "\n",
    "ВЫВОД: `no`"
   ]
  },
  {
   "cell_type": "code",
   "execution_count": null,
   "metadata": {},
   "outputs": [],
   "source": []
  }
 ],
 "metadata": {
  "kernelspec": {
   "display_name": "Python 3.7.5 64-bit ('venv': venv)",
   "language": "python",
   "name": "python37564bitvenvvenva5ab953d4f48497c96ec4333ac1c1ce3"
  },
  "language_info": {
   "codemirror_mode": {
    "name": "ipython",
    "version": 3
   },
   "file_extension": ".py",
   "mimetype": "text/x-python",
   "name": "python",
   "nbconvert_exporter": "python",
   "pygments_lexer": "ipython3",
   "version": "3.6.9"
  }
 },
 "nbformat": 4,
 "nbformat_minor": 2
}