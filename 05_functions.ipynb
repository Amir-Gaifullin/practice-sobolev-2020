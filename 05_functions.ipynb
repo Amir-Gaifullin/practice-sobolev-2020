{
 "cells": [
  {
   "cell_type": "markdown",
   "metadata": {},
   "source": [
    "# Именные функции"
   ]
  },
  {
   "cell_type": "markdown",
   "metadata": {},
   "source": [
    "Функция в python - объект, принимающий аргументы и возвращающий значение. Обычно функция определяется с помощью инструкции def.\n",
    "\n",
    "Определим простейшую функцию:"
   ]
  },
  {
   "cell_type": "code",
   "execution_count": 1,
   "metadata": {},
   "outputs": [],
   "source": [
    "def add(x, y):\n",
    "    return x + y"
   ]
  },
  {
   "cell_type": "markdown",
   "metadata": {},
   "source": [
    "Инструкция return говорит, что нужно вернуть значение. В нашем случае функция возвращает сумму x и y.\n",
    "\n",
    "Теперь мы ее можем вызвать:"
   ]
  },
  {
   "cell_type": "code",
   "execution_count": 4,
   "metadata": {},
   "outputs": [],
   "source": [
    "sum_res = add(1, 10)"
   ]
  },
  {
   "cell_type": "code",
   "execution_count": 5,
   "metadata": {},
   "outputs": [
    {
     "data": {
      "text/plain": [
       "11"
      ]
     },
     "execution_count": 5,
     "metadata": {},
     "output_type": "execute_result"
    }
   ],
   "source": [
    "sum_res"
   ]
  },
  {
   "cell_type": "code",
   "execution_count": 3,
   "metadata": {},
   "outputs": [
    {
     "data": {
      "text/plain": [
       "'abcdef'"
      ]
     },
     "execution_count": 3,
     "metadata": {},
     "output_type": "execute_result"
    }
   ],
   "source": [
    "add('abc', 'def')"
   ]
  },
  {
   "cell_type": "markdown",
   "metadata": {},
   "source": [
    "Функция может быть любой сложности и возвращать любые объекты (списки, кортежи, и даже функции!):"
   ]
  },
  {
   "cell_type": "code",
   "execution_count": 6,
   "metadata": {},
   "outputs": [],
   "source": [
    "def newfunc(n):\n",
    "    def myfunc(x):\n",
    "        return x + n\n",
    "    return myfunc"
   ]
  },
  {
   "cell_type": "code",
   "execution_count": 7,
   "metadata": {},
   "outputs": [
    {
     "data": {
      "text/plain": [
       "300"
      ]
     },
     "execution_count": 7,
     "metadata": {},
     "output_type": "execute_result"
    }
   ],
   "source": [
    "new = newfunc(100)  # new - это функция\n",
    "new(200)"
   ]
  },
  {
   "cell_type": "markdown",
   "metadata": {},
   "source": [
    "Функция может и не заканчиваться инструкцией return, при этом функция вернет значение None:"
   ]
  },
  {
   "cell_type": "code",
   "execution_count": 8,
   "metadata": {},
   "outputs": [],
   "source": [
    "def func():\n",
    "    pass"
   ]
  },
  {
   "cell_type": "code",
   "execution_count": 9,
   "metadata": {},
   "outputs": [
    {
     "name": "stdout",
     "output_type": "stream",
     "text": [
      "None\n"
     ]
    }
   ],
   "source": [
    "print(func())"
   ]
  },
  {
   "cell_type": "markdown",
   "metadata": {},
   "source": [
    "# Аргументы функции"
   ]
  },
  {
   "cell_type": "markdown",
   "metadata": {},
   "source": [
    "Функция может принимать произвольное количество аргументов или не принимать их вовсе. Также распространены функции с произвольным числом аргументов, функции с позиционными и именованными аргументами, обязательными и необязательными."
   ]
  },
  {
   "cell_type": "code",
   "execution_count": 10,
   "metadata": {},
   "outputs": [],
   "source": [
    "def func(a, b, c=2): # c - необязательный аргумент\n",
    "    return a + b + c"
   ]
  },
  {
   "cell_type": "code",
   "execution_count": 11,
   "metadata": {},
   "outputs": [
    {
     "data": {
      "text/plain": [
       "5"
      ]
     },
     "execution_count": 11,
     "metadata": {},
     "output_type": "execute_result"
    }
   ],
   "source": [
    "func(1, 2)  # a = 1, b = 2, c = 2 (по умолчанию)"
   ]
  },
  {
   "cell_type": "code",
   "execution_count": 12,
   "metadata": {},
   "outputs": [
    {
     "data": {
      "text/plain": [
       "6"
      ]
     },
     "execution_count": 12,
     "metadata": {},
     "output_type": "execute_result"
    }
   ],
   "source": [
    "func(1, 2, 3)  # a = 1, b = 2, c = 3"
   ]
  },
  {
   "cell_type": "code",
   "execution_count": 13,
   "metadata": {},
   "outputs": [
    {
     "data": {
      "text/plain": [
       "6"
      ]
     },
     "execution_count": 13,
     "metadata": {},
     "output_type": "execute_result"
    }
   ],
   "source": [
    "func(a=1, b=3)  # a = 1, b = 3, c = 2"
   ]
  },
  {
   "cell_type": "code",
   "execution_count": 14,
   "metadata": {},
   "outputs": [
    {
     "ename": "TypeError",
     "evalue": "func() missing 1 required positional argument: 'b'",
     "output_type": "error",
     "traceback": [
      "\u001b[0;31m---------------------------------------------------------------------------\u001b[0m",
      "\u001b[0;31mTypeError\u001b[0m                                 Traceback (most recent call last)",
      "\u001b[0;32m<ipython-input-14-be941a14b674>\u001b[0m in \u001b[0;36m<module>\u001b[0;34m\u001b[0m\n\u001b[0;32m----> 1\u001b[0;31m \u001b[0mfunc\u001b[0m\u001b[0;34m(\u001b[0m\u001b[0ma\u001b[0m\u001b[0;34m=\u001b[0m\u001b[0;36m3\u001b[0m\u001b[0;34m,\u001b[0m \u001b[0mc\u001b[0m\u001b[0;34m=\u001b[0m\u001b[0;36m6\u001b[0m\u001b[0;34m)\u001b[0m  \u001b[0;31m# a = 3, c = 6, b не определен\u001b[0m\u001b[0;34m\u001b[0m\u001b[0;34m\u001b[0m\u001b[0m\n\u001b[0m",
      "\u001b[0;31mTypeError\u001b[0m: func() missing 1 required positional argument: 'b'"
     ]
    }
   ],
   "source": [
    "func(a=3, c=6)  # a = 3, c = 6, b не определен"
   ]
  },
  {
   "cell_type": "markdown",
   "metadata": {},
   "source": [
    "Функция также может принимать переменное количество позиционных аргументов, тогда перед именем ставится *:"
   ]
  },
  {
   "cell_type": "code",
   "execution_count": 15,
   "metadata": {},
   "outputs": [],
   "source": [
    "def func(*args):\n",
    "    return args"
   ]
  },
  {
   "cell_type": "code",
   "execution_count": 16,
   "metadata": {},
   "outputs": [
    {
     "data": {
      "text/plain": [
       "(1, 2, 3, 'abc')"
      ]
     },
     "execution_count": 16,
     "metadata": {},
     "output_type": "execute_result"
    }
   ],
   "source": [
    "func(1, 2, 3, 'abc')"
   ]
  },
  {
   "cell_type": "code",
   "execution_count": 17,
   "metadata": {},
   "outputs": [
    {
     "data": {
      "text/plain": [
       "()"
      ]
     },
     "execution_count": 17,
     "metadata": {},
     "output_type": "execute_result"
    }
   ],
   "source": [
    "func()"
   ]
  },
  {
   "cell_type": "code",
   "execution_count": 18,
   "metadata": {},
   "outputs": [
    {
     "data": {
      "text/plain": [
       "(1,)"
      ]
     },
     "execution_count": 18,
     "metadata": {},
     "output_type": "execute_result"
    }
   ],
   "source": [
    "func(1)"
   ]
  },
  {
   "cell_type": "markdown",
   "metadata": {},
   "source": [
    "Как видно из примера, args - это кортеж из всех переданных аргументов функции, и с переменной можно работать также, как и с кортежем.\n",
    "\n",
    "Функция может принимать и произвольное число именованных аргументов, тогда перед именем ставится **:"
   ]
  },
  {
   "cell_type": "code",
   "execution_count": 19,
   "metadata": {},
   "outputs": [],
   "source": [
    "def func(**kwargs):\n",
    "    return kwargs"
   ]
  },
  {
   "cell_type": "code",
   "execution_count": 20,
   "metadata": {},
   "outputs": [
    {
     "data": {
      "text/plain": [
       "{'a': 1, 'b': 2, 'c': 3}"
      ]
     },
     "execution_count": 20,
     "metadata": {},
     "output_type": "execute_result"
    }
   ],
   "source": [
    "func(a=1, b=2, c=3)"
   ]
  },
  {
   "cell_type": "code",
   "execution_count": 21,
   "metadata": {},
   "outputs": [
    {
     "data": {
      "text/plain": [
       "{}"
      ]
     },
     "execution_count": 21,
     "metadata": {},
     "output_type": "execute_result"
    }
   ],
   "source": [
    "func()"
   ]
  },
  {
   "cell_type": "code",
   "execution_count": 22,
   "metadata": {},
   "outputs": [
    {
     "data": {
      "text/plain": [
       "{'a': 'python'}"
      ]
     },
     "execution_count": 22,
     "metadata": {},
     "output_type": "execute_result"
    }
   ],
   "source": [
    "func(a='python')"
   ]
  },
  {
   "cell_type": "markdown",
   "metadata": {},
   "source": [
    "В переменной kwargs у нас хранится словарь, с которым мы, опять-таки, можем делать все, что нам заблагорассудится."
   ]
  },
  {
   "cell_type": "markdown",
   "metadata": {},
   "source": [
    "## Пример"
   ]
  },
  {
   "cell_type": "markdown",
   "metadata": {},
   "source": [
    "### DRY - dont repeat yourself"
   ]
  },
  {
   "cell_type": "code",
   "execution_count": 25,
   "metadata": {
    "scrolled": true
   },
   "outputs": [
    {
     "name": "stdout",
     "output_type": "stream",
     "text": [
      "asdjh2skdfjc\n",
      "yes\n"
     ]
    }
   ],
   "source": [
    "lst = [i for i in input().split()]\n",
    "for i in range(len(lst)):\n",
    "    flag = False\n",
    "    temp = lst[i]\n",
    "    for j in range(len(temp)):\n",
    "        if ord(temp[j]) <= ord('9') and ord(temp[j]) >= ord('0'):\n",
    "            flag = True\n",
    "            break\n",
    "    if not flag:\n",
    "        print('no')\n",
    "        break\n",
    "if flag: \n",
    "    print('yes')"
   ]
  },
  {
   "cell_type": "code",
   "execution_count": 27,
   "metadata": {},
   "outputs": [
    {
     "name": "stdout",
     "output_type": "stream",
     "text": [
      "asdf123SFD\n",
      "yes\n"
     ]
    }
   ],
   "source": [
    "list_of_strings = [x for x in input().split()]\n",
    "\n",
    "def check_el_for_ints(i):\n",
    "    for el in i:\n",
    "        if ord('0') <= ord(el) <= ord('9'):\n",
    "            return True\n",
    "    return False\n",
    "\n",
    "def check_for_ints(list_of_strings):\n",
    "    for i in list_of_strings:\n",
    "        if not check_el_for_ints(i):\n",
    "            return False\n",
    "    return True\n",
    "\n",
    "print('yes') if check_for_ints(list_of_strings) else print('no')"
   ]
  },
  {
   "cell_type": "markdown",
   "metadata": {},
   "source": [
    "# Рекурсия"
   ]
  },
  {
   "cell_type": "markdown",
   "metadata": {},
   "source": [
    "У рекурсивной функции есть:\n",
    "- Базовая часть (сразу возвращаем ответ)\n",
    "- Рекурсивная часть (вызываем саму себя)\n",
    "\n",
    "Любой цикл можно заменить рекурсией и наоборот!"
   ]
  },
  {
   "cell_type": "code",
   "execution_count": 28,
   "metadata": {},
   "outputs": [
    {
     "name": "stdout",
     "output_type": "stream",
     "text": [
      "Factorial of 3 is 6\n"
     ]
    }
   ],
   "source": [
    "def factorial(x):\n",
    "    if x == 1:\n",
    "        return 1\n",
    "    else:\n",
    "        return (x * factorial(x-1))\n",
    "\n",
    "n = 3\n",
    "print(f\"Factorial of {n} is {factorial(n)}\")"
   ]
  },
  {
   "cell_type": "markdown",
   "metadata": {},
   "source": [
    "# Примитивные и ссылочные типы. Передача по ссылке и по значению"
   ]
  },
  {
   "cell_type": "code",
   "execution_count": 29,
   "metadata": {},
   "outputs": [],
   "source": [
    "def get_id(i):\n",
    "    return id(i)"
   ]
  },
  {
   "cell_type": "code",
   "execution_count": 30,
   "metadata": {},
   "outputs": [],
   "source": [
    "test = 123"
   ]
  },
  {
   "cell_type": "code",
   "execution_count": 31,
   "metadata": {},
   "outputs": [
    {
     "data": {
      "text/plain": [
       "94918752675392"
      ]
     },
     "execution_count": 31,
     "metadata": {},
     "output_type": "execute_result"
    }
   ],
   "source": [
    "id(test)"
   ]
  },
  {
   "cell_type": "code",
   "execution_count": 32,
   "metadata": {},
   "outputs": [
    {
     "data": {
      "text/plain": [
       "94918752675392"
      ]
     },
     "execution_count": 32,
     "metadata": {},
     "output_type": "execute_result"
    }
   ],
   "source": [
    "get_id(test)"
   ]
  },
  {
   "cell_type": "code",
   "execution_count": 35,
   "metadata": {},
   "outputs": [
    {
     "name": "stdout",
     "output_type": "stream",
     "text": [
      "94918752675392\n",
      "94918752675424\n",
      "124\n",
      "123\n"
     ]
    }
   ],
   "source": [
    "def add_one(i):\n",
    "    i += 1\n",
    "    print(id(i))\n",
    "    return i\n",
    "\n",
    "i = 123\n",
    "print(id(i))\n",
    "\n",
    "print(add_one(i))\n",
    "print(i)"
   ]
  },
  {
   "cell_type": "code",
   "execution_count": 36,
   "metadata": {},
   "outputs": [
    {
     "name": "stdout",
     "output_type": "stream",
     "text": [
      "140192429991040\n",
      "140192429991040\n",
      "[1, 2, 3, 1]\n",
      "[1, 2, 3, 1]\n"
     ]
    }
   ],
   "source": [
    "def append_one(i):\n",
    "    i.append(1)\n",
    "    print(id(i))\n",
    "    return i\n",
    "\n",
    "i = [1, 2, 3]\n",
    "print(id(i))\n",
    "\n",
    "print(append_one(i))\n",
    "print(i)"
   ]
  },
  {
   "cell_type": "markdown",
   "metadata": {},
   "source": [
    "<img src=\"./images/04/mutable.png\" alt=\"mutable\"/>"
   ]
  },
  {
   "cell_type": "markdown",
   "metadata": {},
   "source": [
    "# Задания\n",
    "\n",
    "1. Вводится список чисел через пробел. Написать функцию, которая рекурсивно вычислит сумму чётных элементов массива. Вывести результат.\n",
    "2. Вводится четыре числа через пробел. Первое - ширина первой матрицы, второе - высота первой матрицы, третье - ширина второй матрицы, четвёртое - высота второй матрицы. Далее построчно вводятся сами матрицы (никаких разделителей в воде между матрицами нет, оперируйте данными, где 4 числа через пробел). Выведите произведение матриц, если это возможно, иначе выведите -1. ДЛЯ ЭТОЙ ЗАДАЧИ НАПИШИТЕ ФУНКЦИЮ, которая принимает две матрицы и возвращает их произведение.\n",
    "3. Через командную строку первой строкой вводится число a, второй вводится отсортированный список чисел, числа разделены пробелами. Написать функцию, которая будет за O(log(n)) находить и выводить позицию элемента в списке. Если элемент отсутствует в списке, вывести -1.\n"
   ]
  },
  {
   "cell_type": "markdown",
   "metadata": {},
   "source": [
    "# ДЗ\n",
    "\n",
    "## Задание 1\n",
    "\n",
    "`prefix.py`\n",
    "\n",
    "Вводится список строк через пробел. Найти и вывести наибольший общий префикс. Организовать код с помощью функций.\n",
    "\n",
    "ВВОД: `prestring prefix profix`\n",
    "\n",
    "ВЫВОД: `pr`\n",
    "\n",
    "---\n",
    "\n",
    "## Задание 2\n",
    "\n",
    "`sum.py`\n",
    "\n",
    "Вводится список целых чисел через пробел. Преобразовать в список, найти и вывести сумму минимума и максимума, используя наименьшее число сравнений. _Подсказка - используйте рекурсию._\n",
    "\n",
    "ВВОД: `1 2 3 4 -1 5 6 7 8 9`\n",
    "\n",
    "ВЫВОД: `8`\n",
    "\n",
    "---\n",
    "\n",
    "\n",
    "## Задание 3\n",
    "\n",
    "`pow.py`\n",
    "\n",
    "Вводятся 3 числа через пробел - x, n и d. x - целое, n и d - неотрицательные целые. Найдите pow(x, n) % d. Организовать код с помощью функций. _Подсказка: сколько минимум нужно умножений, чтобы найти x50?_\n",
    "\n",
    "ВВОД: `2 4 9`\n",
    "\n",
    "ВЫВОД: `7`\n",
    "\n",
    "---\n",
    "\n",
    "## Задание 4\n",
    "\n",
    "`formula.py`\n",
    "\n",
    "Вводится число x. Вычислить и вывести значение многочлена. \n",
    "\n",
    "$$x^5 + 6x^4 + 10x^3 + 25x^2 + 30x + 101$$\n",
    "\n",
    "Постараться сделать оптимально (схема Горнера). Организовать код с помощью функций.\n",
    "\n",
    "ВВОД: `3`\n",
    "\n",
    "ВЫВОД: `1415`"
   ]
  }
 ],
 "metadata": {
  "kernelspec": {
   "display_name": "Python 3.8.5 64-bit ('venv': venv)",
   "language": "python",
   "name": "python38564bitvenvvenv00e19ac7737949998ba8aff469053ee2"
  },
  "language_info": {
   "codemirror_mode": {
    "name": "ipython",
    "version": 3
   },
   "file_extension": ".py",
   "mimetype": "text/x-python",
   "name": "python",
   "nbconvert_exporter": "python",
   "pygments_lexer": "ipython3",
   "version": "3.8.5"
  }
 },
 "nbformat": 4,
 "nbformat_minor": 4
}
